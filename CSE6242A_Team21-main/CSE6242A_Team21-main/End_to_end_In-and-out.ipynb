{
 "cells": [
  {
   "cell_type": "code",
   "execution_count": 1,
   "id": "31d9f826",
   "metadata": {},
   "outputs": [
    {
     "name": "stderr",
     "output_type": "stream",
     "text": [
      "Using `tqdm.autonotebook.tqdm` in notebook mode. Use `tqdm.tqdm` instead to force console mode (e.g. in jupyter console)\n"
     ]
    }
   ],
   "source": [
    "# Import necessary libraries\n",
    "import pandas as pd\n",
    "import numpy as np\n",
    "from sklearn.model_selection import train_test_split\n",
    "from sklearn.preprocessing import StandardScaler\n",
    "from sklearn.linear_model import LogisticRegression\n",
    "import shap\n",
    "import pickle\n",
    "\n",
    "all_weather_conditions,all_timezones,ordering = pickle.load(open('One-Hot-Encoded_features_and_Ordering.pkl', 'rb'))\n",
    "scaler = pickle.load(open('Data_Scaler.pkl','rb'))\n",
    "model = pickle.load(open('Regression_Model.pkl','rb'))"
   ]
  },
  {
   "cell_type": "code",
   "execution_count": 2,
   "id": "daff6132",
   "metadata": {},
   "outputs": [],
   "source": [
    "# Example new datapoint (replace with your actual data)\n",
    "raw_data = {\n",
    "    \"Start_Lat\": 47.123,\n",
    "    \"Start_Lng\": -122.456,\n",
    "    \"End_Lat\": 47.789,\n",
    "    \"End_Lng\": -122.987,\n",
    "    \"Start_Time\": \"2024-04-11T10:00:00\",\n",
    "    \"End_Time\": \"2024-04-11T11:30:00\",\n",
    "    \"Weather_Condition\": \"Clear\",\n",
    "    \"Timezone\": \"US/Pacific\",\n",
    "    \"Turning_Loop\": False,\n",
    "    \"No_Exit\": True,\n",
    "    \"Crossing\": False,\n",
    "    \"Junction\": True,\n",
    "    \"Stop\": False,\n",
    "    \"Traffic_Signal\": True\n",
    "}\n",
    "\n",
    "datapoint = pd.DataFrame([raw_data])\n",
    "\n",
    "# Convert start and end times to pandas datetime objects\n",
    "datapoint[\"Start_Time\"] = pd.to_datetime(datapoint[\"Start_Time\"], errors=\"coerce\").astype(\"int64\")\n",
    "datapoint[\"End_Time\"] = pd.to_datetime(datapoint[\"End_Time\"], errors=\"coerce\").astype(\"int64\")\n",
    "\n",
    "# Calculate duration\n",
    "datapoint[\"Duration\"] = (datapoint[\"End_Time\"] - datapoint[\"Start_Time\"]).div(10**9)\n",
    "\n",
    "# Create one-hot-encoded columns for weather conditions\n",
    "for condition in all_weather_conditions:\n",
    "    datapoint[\"Weather_Condition_\"+condition] = (datapoint[\"Weather_Condition\"] == condition).astype(int)\n",
    "\n",
    "# Create one-hot-encoded columns for timezones\n",
    "for timezone in all_timezones:\n",
    "    datapoint[\"Timezone_\"+timezone] = (datapoint[\"Timezone\"] == timezone).astype(int)\n",
    "\n",
    "# Drop original columns\n",
    "datapoint.drop(columns=[\"Weather_Condition\", \"Timezone\"], inplace=True)\n",
    "datapoint = datapoint[ordering]"
   ]
  },
  {
   "cell_type": "code",
   "execution_count": 3,
   "id": "1ac685a8",
   "metadata": {},
   "outputs": [
    {
     "name": "stdout",
     "output_type": "stream",
     "text": [
      "[2]\n"
     ]
    }
   ],
   "source": [
    "scaled_features = scaler.transform(datapoint)\n",
    "predicted_result = model.predict(scaled_features)\n",
    "print(predicted_result)"
   ]
  },
  {
   "cell_type": "code",
   "execution_count": null,
   "id": "436c20b6",
   "metadata": {},
   "outputs": [],
   "source": []
  }
 ],
 "metadata": {
  "kernelspec": {
   "display_name": "Python 3 (ipykernel)",
   "language": "python",
   "name": "python3"
  },
  "language_info": {
   "codemirror_mode": {
    "name": "ipython",
    "version": 3
   },
   "file_extension": ".py",
   "mimetype": "text/x-python",
   "name": "python",
   "nbconvert_exporter": "python",
   "pygments_lexer": "ipython3",
   "version": "3.11.5"
  }
 },
 "nbformat": 4,
 "nbformat_minor": 5
}
