{
 "cells": [
  {
   "cell_type": "code",
   "execution_count": 1,
   "id": "fa4a9496",
   "metadata": {
    "scrolled": false
   },
   "outputs": [
    {
     "name": "stderr",
     "output_type": "stream",
     "text": [
      "Using `tqdm.autonotebook.tqdm` in notebook mode. Use `tqdm.tqdm` instead to force console mode (e.g. in jupyter console)\n"
     ]
    }
   ],
   "source": [
    "# Import necessary libraries\n",
    "import pandas as pd\n",
    "import numpy as np\n",
    "from sklearn.model_selection import train_test_split\n",
    "from sklearn.preprocessing import StandardScaler\n",
    "from sklearn.linear_model import LogisticRegression\n",
    "import shap"
   ]
  },
  {
   "cell_type": "code",
   "execution_count": null,
   "id": "9628456d",
   "metadata": {},
   "outputs": [],
   "source": [
    "data = pd.read_csv(\"US_Accidents_March23.csv\")\n",
    "missing = data.isnull().sum()\n",
    "#print(missing)\n",
    "print(\"Number of Entries before drop = \", len(data))\n",
    "\n",
    "# dropping columns with NaN \n",
    "data_dropped = data.dropna()\n",
    "print(\"Number of Entries after drop = \", len(data_dropped))\n",
    "\n",
    "#print(data_dropped['End_Time'])\n",
    "\n",
    "# converting columns to datetime \n",
    "data_dropped['Start_Time'] = pd.to_datetime(data_dropped['Start_Time'], errors='coerce')\n",
    "data_dropped['End_Time'] = pd.to_datetime(data_dropped['End_Time'], errors='coerce')\n",
    "\n",
    "#print(data_dropped['End_Time'])\n",
    "\n",
    "# dropping unneeded column (can drop more if decided)\n",
    "data_cleaned = data_dropped.drop(['Source'], axis=1)\n",
    "\n",
    "data_cleaned.to_csv('preprocessed_data.csv', index=False)"
   ]
  },
  {
   "cell_type": "code",
   "execution_count": 2,
   "id": "3826d41c",
   "metadata": {},
   "outputs": [
    {
     "data": {
      "text/plain": [
       "Index(['ID', 'Severity', 'Start_Time', 'End_Time', 'Start_Lat', 'Start_Lng',\n",
       "       'End_Lat', 'End_Lng', 'Distance(mi)', 'Description', 'Street', 'City',\n",
       "       'County', 'State', 'Zipcode', 'Country', 'Timezone', 'Airport_Code',\n",
       "       'Weather_Timestamp', 'Temperature(F)', 'Wind_Chill(F)', 'Humidity(%)',\n",
       "       'Pressure(in)', 'Visibility(mi)', 'Wind_Direction', 'Wind_Speed(mph)',\n",
       "       'Precipitation(in)', 'Weather_Condition', 'Amenity', 'Bump', 'Crossing',\n",
       "       'Give_Way', 'Junction', 'No_Exit', 'Railway', 'Roundabout', 'Station',\n",
       "       'Stop', 'Traffic_Calming', 'Traffic_Signal', 'Turning_Loop',\n",
       "       'Sunrise_Sunset', 'Civil_Twilight', 'Nautical_Twilight',\n",
       "       'Astronomical_Twilight'],\n",
       "      dtype='object')"
      ]
     },
     "execution_count": 2,
     "metadata": {},
     "output_type": "execute_result"
    }
   ],
   "source": [
    "data = pd.read_csv(\"preprocessed_data.csv\")\n",
    "data.columns"
   ]
  },
  {
   "cell_type": "code",
   "execution_count": 3,
   "id": "6f518482",
   "metadata": {},
   "outputs": [
    {
     "name": "stdout",
     "output_type": "stream",
     "text": [
      "122\n",
      "84\n"
     ]
    }
   ],
   "source": [
    "# Print old unique values\n",
    "#print(data['Weather_Condition'].unique())\n",
    "print(len(data['Weather_Condition'].unique()))\n",
    "\n",
    "condition_map = {\n",
    "    'Drizzle / Windy' : 'Drizzle',\n",
    "    'Heavy Drizzle' : ' Drizzle',\n",
    "    'Heavy Rain / Windy' : 'Heavy Rain',\n",
    "    'Heavy Rain Shower' : 'Heavy Rain',\n",
    "    'Heavy Rain Shower / Windy' : 'Heavy Rain',\n",
    "    'Heavy Rain Showers' : 'Heavy Rain',\n",
    "    'Heavy Snow / Windy' : 'Heavy Snow',\n",
    "    'Heavy Snow with Thunder' : 'Heavy Snow',\n",
    "    'Heavy T-Storm / Windy': 'Thunderstorms',\n",
    "    'Heavy T-Storm': 'Thunderstorms',\n",
    "    'Heavy Thunderstorms and Rain': 'Thunderstorms',\n",
    "    'Heavy Thunderstorms and Rain' : 'Thunderstorms',\n",
    "    'Heavy Thunderstorms and Snow' : 'Thunderstorms',\n",
    "    'Heavy Thunderstorms with Small Hail' : 'Thunderstorms',\n",
    "    'Light Blowing Snow': 'Light Snow',\n",
    "    'Light Drizzle / Windy' :' Light Drizzle',\n",
    "    'Light Rain / Windy' : 'Light Rain',\n",
    "    'Light Rain Shower' : 'Light Rain',\n",
    "    'Light Rain Shower / Windy' : 'Light Rain',\n",
    "    'Light Rain Showers' : 'Light Rain',\n",
    "    'Light Rain with Thunder' : 'Light Rain',\n",
    "    'Light Sleet / Windy' :'Light Sleet',\n",
    "    'Light Snow / Windy' : 'Light Snow',\n",
    "    'Light Snow and Sleet' : 'Light Snow',\n",
    "    'Light Snow Grains' : 'Light Snow',\n",
    "    'Light Snow Shower' : 'Light Snow',\n",
    "    'Light Thunderstorms and Rain' : 'Light Thunderstorms',\n",
    "    'Light Thunderstorms and Snow' : 'Light Thunderstorms',\n",
    "    'Rain / Windy' : 'Rain',\n",
    "    'Rain Shower' : 'Rain', \n",
    "    'Rain Shower / Windy' : 'Rain',\n",
    "    'Rain Showers' : 'Rain',\n",
    "    'Snow / Windy' : 'Snow',\n",
    "    'Snow and Sleet' : 'Snow',\n",
    "    'Thunder' : 'Thunderstorms',\n",
    "    'T-Storm' : ' Thunderstorms',\n",
    "    'T-Storm / Windy' : ' Thunderstorms',\n",
    "    'Thunder / Windy' : 'Thunderstorms',\n",
    "    'Thunder in the Vicinity' : 'Thunderstorms',\n",
    "    'Thunderstorms and Rain' : 'Thunderstorms',\n",
    "    'Thunderstorms and Snow' : 'Thunderstorms',\n",
    "    'Wintry Mix / Windy' : 'Wintry Mix',\n",
    "    'Scattered Clouds' : 'Partly Cloudy',\n",
    "    'Overcast' : 'Mostly Cloudy',\n",
    "    'Light Drizzle': 'Light Rain',\n",
    "    'Cloudy / Windy' : 'Windy',\n",
    "    'Fair / Windy' : 'Windy',\n",
    "    'Mostly Cloudy / Windy' : 'Windy',\n",
    "    'Partly Cloudy / Windy' : 'Windy',\n",
    "    'Fair' : 'Clear',\n",
    "\n",
    "}\n",
    "\n",
    "# Replace redundant conditions\n",
    "data2 = data\n",
    "data2['Weather_Condition'].replace(condition_map, inplace=True)\n",
    "\n",
    "# Print new unique values\n",
    "#print(data2['Weather_Condition'].unique())\n",
    "print(len(data2['Weather_Condition'].unique()))\n",
    "\n",
    "data2.to_csv('fixed_conditions.csv', index=False)"
   ]
  },
  {
   "cell_type": "code",
   "execution_count": 2,
   "id": "4d4b5f0d",
   "metadata": {},
   "outputs": [],
   "source": [
    "data = pd.read_csv(\"fixed_conditions.csv\")"
   ]
  },
  {
   "cell_type": "code",
   "execution_count": 3,
   "id": "d2dd5b3a",
   "metadata": {},
   "outputs": [],
   "source": [
    "data['Start_Time'] = pd.to_datetime(data[\"Start_Time\"], errors = 'coerce').astype('int64')\n",
    "data['End_Time'] = pd.to_datetime(data[\"End_Time\"], errors = 'coerce').astype('int64')\n",
    "data['Duration'] = (data.End_Time - data.Start_Time).div(10**9)\n",
    "data = data.dropna()\n",
    "#turns the \"Start_Time\" feature into a road-trip time length feature"
   ]
  },
  {
   "cell_type": "code",
   "execution_count": 4,
   "id": "0eab5650",
   "metadata": {},
   "outputs": [],
   "source": [
    "# Feature selection (choose relevant columns)\n",
    "selected_features = [\"Start_Lat\", \"Start_Lng\",\"End_Lat\", \"End_Lng\", \"Start_Time\", \"End_Time\", \"Duration\", \"Weather_Condition\", #\n",
    "                     \"Timezone\", \"Turning_Loop\", \"No_Exit\", \"Crossing\", \"Junction\", \"Stop\", \"Traffic_Signal\", \"Severity\"]\n",
    "\n",
    "df = pd.get_dummies(data[selected_features], columns = [ \"Timezone\", \"Weather_Condition\"])"
   ]
  },
  {
   "cell_type": "code",
   "execution_count": 5,
   "id": "fb8ec430",
   "metadata": {},
   "outputs": [
    {
     "name": "stderr",
     "output_type": "stream",
     "text": [
      "lbfgs failed to converge (status=1):\n",
      "STOP: TOTAL NO. of ITERATIONS REACHED LIMIT.\n",
      "\n",
      "Increase the number of iterations (max_iter) or scale the data as shown in:\n",
      "    https://scikit-learn.org/stable/modules/preprocessing.html\n",
      "Please also refer to the documentation for alternative solver options:\n",
      "    https://scikit-learn.org/stable/modules/linear_model.html#logistic-regression\n"
     ]
    },
    {
     "name": "stdout",
     "output_type": "stream",
     "text": [
      "Accuracy of the logistic regression model with a 20% test split: 0.94\n"
     ]
    }
   ],
   "source": [
    "X_train, X_test, y_train, y_test = train_test_split(df.drop(columns=[\"Severity\"]),df[\"Severity\"], test_size=0.2, random_state=42)\n",
    "# Standardize features\n",
    "scaler = StandardScaler()\n",
    "X_train_scaled = scaler.fit_transform(X_train)\n",
    "X_test_scaled = scaler.transform(X_test)\n",
    "\n",
    "# Train a logistic regression model\n",
    "model = LogisticRegression()\n",
    "model.fit(X_train_scaled, y_train)\n",
    "\n",
    "# Make predictions on the test set\n",
    "y_pred = model.predict(X_test_scaled)\n",
    "\n",
    "# Calculate accuracy\n",
    "from sklearn.metrics import accuracy_score\n",
    "accuracy = accuracy_score(y_test, y_pred)\n",
    "print(f\"Accuracy of the logistic regression model with a 20% test split: {accuracy:.2f}\")"
   ]
  },
  {
   "cell_type": "code",
   "execution_count": 8,
   "id": "83e318f9",
   "metadata": {},
   "outputs": [
    {
     "name": "stderr",
     "output_type": "stream",
     "text": [
      "No data for colormapping provided via 'c'. Parameters 'vmin', 'vmax' will be ignored\n",
      "The figure layout has changed to tight\n",
      "The figure layout has changed to tight\n"
     ]
    },
    {
     "data": {
      "image/png": "[encoded data removed]",
      "text/plain": [
       "<Figure size 1150x660 with 4 Axes>"
      ]
     },
     "metadata": {},
     "output_type": "display_data"
    }
   ],
   "source": [
    "# Calculate SHAP values\n",
    "explainer = shap.Explainer(model, X_train_scaled)\n",
    "shap_values = explainer(X_test_scaled)\n",
    "\n",
    "# Visualize feature importance\n",
    "shap.summary_plot(shap_values, X_test_scaled, feature_names=df.drop(columns=[\"Severity\"]).columns)"
   ]
  },
  {
   "cell_type": "code",
   "execution_count": 9,
   "id": "81feab5b",
   "metadata": {},
   "outputs": [
    {
     "data": {
      "text/plain": [
       "Index(['End_Lat', 'End_Lng', 'Start_Time', 'End_Time', 'Duration',\n",
       "       'Turning_Loop', 'No_Exit', 'Crossing', 'Junction', 'Stop',\n",
       "       'Traffic_Signal', 'Timezone_US/Central', 'Timezone_US/Eastern',\n",
       "       'Timezone_US/Mountain', 'Timezone_US/Pacific',\n",
       "       'Weather_Condition_ Drizzle', 'Weather_Condition_ Light Drizzle',\n",
       "       'Weather_Condition_ Thunderstorms', 'Weather_Condition_Blowing Dust',\n",
       "       'Weather_Condition_Blowing Dust / Windy',\n",
       "       'Weather_Condition_Blowing Sand', 'Weather_Condition_Blowing Snow',\n",
       "       'Weather_Condition_Blowing Snow / Windy',\n",
       "       'Weather_Condition_Blowing Snow Nearby', 'Weather_Condition_Clear',\n",
       "       'Weather_Condition_Cloudy', 'Weather_Condition_Drifting Snow',\n",
       "       'Weather_Condition_Drifting Snow / Windy', 'Weather_Condition_Drizzle',\n",
       "       'Weather_Condition_Drizzle and Fog', 'Weather_Condition_Fog',\n",
       "       'Weather_Condition_Fog / Windy', 'Weather_Condition_Freezing Drizzle',\n",
       "       'Weather_Condition_Freezing Rain',\n",
       "       'Weather_Condition_Freezing Rain / Windy',\n",
       "       'Weather_Condition_Funnel Cloud', 'Weather_Condition_Hail',\n",
       "       'Weather_Condition_Haze', 'Weather_Condition_Haze / Windy',\n",
       "       'Weather_Condition_Heavy Freezing Drizzle',\n",
       "       'Weather_Condition_Heavy Freezing Rain',\n",
       "       'Weather_Condition_Heavy Ice Pellets', 'Weather_Condition_Heavy Rain',\n",
       "       'Weather_Condition_Heavy Sleet',\n",
       "       'Weather_Condition_Heavy Sleet / Windy',\n",
       "       'Weather_Condition_Heavy Sleet and Thunder',\n",
       "       'Weather_Condition_Heavy Snow', 'Weather_Condition_Ice Pellets',\n",
       "       'Weather_Condition_Light Freezing Drizzle',\n",
       "       'Weather_Condition_Light Freezing Fog',\n",
       "       'Weather_Condition_Light Freezing Rain',\n",
       "       'Weather_Condition_Light Freezing Rain / Windy',\n",
       "       'Weather_Condition_Light Ice Pellets', 'Weather_Condition_Light Rain',\n",
       "       'Weather_Condition_Light Sleet', 'Weather_Condition_Light Snow',\n",
       "       'Weather_Condition_Light Snow Shower / Windy',\n",
       "       'Weather_Condition_Light Snow and Sleet / Windy',\n",
       "       'Weather_Condition_Light Snow with Thunder',\n",
       "       'Weather_Condition_Light Thunderstorms', 'Weather_Condition_Mist',\n",
       "       'Weather_Condition_Mostly Cloudy',\n",
       "       'Weather_Condition_N/A Precipitation', 'Weather_Condition_Partial Fog',\n",
       "       'Weather_Condition_Partly Cloudy', 'Weather_Condition_Patches of Fog',\n",
       "       'Weather_Condition_Patches of Fog / Windy', 'Weather_Condition_Rain',\n",
       "       'Weather_Condition_Sand / Dust Whirls Nearby',\n",
       "       'Weather_Condition_Sand / Dust Whirlwinds',\n",
       "       'Weather_Condition_Sand / Dust Whirlwinds / Windy',\n",
       "       'Weather_Condition_Sand / Windy', 'Weather_Condition_Shallow Fog',\n",
       "       'Weather_Condition_Shallow Fog / Windy',\n",
       "       'Weather_Condition_Showers in the Vicinity', 'Weather_Condition_Sleet',\n",
       "       'Weather_Condition_Sleet / Windy',\n",
       "       'Weather_Condition_Sleet and Thunder', 'Weather_Condition_Small Hail',\n",
       "       'Weather_Condition_Smoke', 'Weather_Condition_Smoke / Windy',\n",
       "       'Weather_Condition_Snow', 'Weather_Condition_Snow Grains',\n",
       "       'Weather_Condition_Snow and Sleet / Windy',\n",
       "       'Weather_Condition_Snow and Thunder',\n",
       "       'Weather_Condition_Snow and Thunder / Windy',\n",
       "       'Weather_Condition_Squalls', 'Weather_Condition_Squalls / Windy',\n",
       "       'Weather_Condition_Thunder / Wintry Mix',\n",
       "       'Weather_Condition_Thunder / Wintry Mix / Windy',\n",
       "       'Weather_Condition_Thunder and Hail',\n",
       "       'Weather_Condition_Thunder and Hail / Windy',\n",
       "       'Weather_Condition_Thunderstorm', 'Weather_Condition_Thunderstorms',\n",
       "       'Weather_Condition_Tornado', 'Weather_Condition_Widespread Dust',\n",
       "       'Weather_Condition_Widespread Dust / Windy', 'Weather_Condition_Windy',\n",
       "       'Weather_Condition_Wintry Mix'],\n",
       "      dtype='object')"
      ]
     },
     "execution_count": 9,
     "metadata": {},
     "output_type": "execute_result"
    }
   ],
   "source": [
    "df.drop(columns=[\"Severity\"]).columns"
   ]
  },
  {
   "cell_type": "code",
   "execution_count": 6,
   "id": "5d79caff",
   "metadata": {},
   "outputs": [],
   "source": [
    "import pickle\n",
    "with open('Regression_Model.pkl', 'wb') as file:\n",
    "    pickle.dump(model, file)"
   ]
  },
  {
   "cell_type": "code",
   "execution_count": null,
   "id": "ce37b22d",
   "metadata": {},
   "outputs": [],
   "source": []
  }
 ],
 "metadata": {
  "kernelspec": {
   "display_name": "Python 3 (ipykernel)",
   "language": "python",
   "name": "python3"
  },
  "language_info": {
   "codemirror_mode": {
    "name": "ipython",
    "version": 3
   },
   "file_extension": ".py",
   "mimetype": "text/x-python",
   "name": "python",
   "nbconvert_exporter": "python",
   "pygments_lexer": "ipython3",
   "version": "3.11.5"
  }
 },
 "nbformat": 4,
 "nbformat_minor": 5
}
